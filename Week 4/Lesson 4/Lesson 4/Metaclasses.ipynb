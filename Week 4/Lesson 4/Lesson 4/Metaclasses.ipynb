{
 "cells": [
  {
   "cell_type": "code",
   "execution_count": 12,
   "metadata": {},
   "outputs": [],
   "source": [
    "# solution in search of a problem???\n",
    "# When you cretae a new object, the type class actually does the work\n",
    "# Metaclasses allow us to create a derivative of type and take over/modify its job\n",
    "# In general, __new__ creates and returns the class object, and __init__ initializes\n",
    "#   the already created class passed in as an argument. Metaclasses can use either or\n",
    "#   both hooks to manage the class at creation time\n",
    "\n",
    "# https://eli.thegreenplace.net/2011/08/14/python-metaclasses-by-example"
   ]
  },
  {
   "cell_type": "code",
   "execution_count": 13,
   "metadata": {},
   "outputs": [],
   "source": [
    "class Meta(type):   # class derived from type\n",
    "    def __new__(meta, classname, supers, classdict):\n",
    "        # Run by inherited type.__call__\n",
    "        # __new__ creates and returns the class object when the class def'n is run by Python\n",
    "        print('In Meta.new:', meta, classname, supers, classdict, sep='\\n    ')\n",
    "        return type.__new__(meta, classname, supers, classdict)\n",
    "    \n",
    "    def __init__(Class, classname, supers, classdict):\n",
    "        # __init__ initializes the already created class passed in as an argument (right after __new__)\n",
    "        print('In Meta.init:', Class, classname, supers, classdict, sep='\\n    ')\n",
    "        print('    init class object:', list(Class.__dict__.keys()))\n",
    "       \n",
    "    "
   ]
  },
  {
   "cell_type": "code",
   "execution_count": 14,
   "metadata": {},
   "outputs": [],
   "source": [
    "class Person(object):\n",
    "    personCount = 0 \n",
    "        \n",
    "    def __init__(self, id, firstName, lastName):\n",
    "        print(\"Making a new Person\")\n",
    "        self.id = id\n",
    "        self.firstName = firstName\n",
    "        self.lastName = lastName\n",
    "        Person.personCount += 1   # Note: must use the \"Person.\" handle\n",
    "    \n",
    "    def printGreeting(self):\n",
    "        print(f\"Hello, {self.firstName} {self.lastName}.\")\n",
    "        \n",
    "    def __str__(self): \n",
    "        return f\"{self.id:<9} {self.lastName:<15} {self.firstName:<15}\"\n",
    "    \n",
    "    def __repr__(self): \n",
    "        return f\"{self.id} {self.lastName} {self.firstName}\"\n",
    "        \n",
    "    def header():\n",
    "        return f\"{'ID':<9} {'Last Name':<15} {'First Name':<15}\""
   ]
  },
  {
   "cell_type": "code",
   "execution_count": 15,
   "metadata": {},
   "outputs": [
    {
     "name": "stdout",
     "output_type": "stream",
     "text": [
      "In Meta.new:\n",
      "    <class '__main__.Meta'>\n",
      "    Student\n",
      "    (<class '__main__.Person'>,)\n",
      "    {'__module__': '__main__', '__qualname__': 'Student', '__init__': <function Student.__init__ at 0x000001C367CD37B8>, '__str__': <function Student.__str__ at 0x000001C367CD3730>, 'header': <function Student.header at 0x000001C367CD36A8>, '__classcell__': <cell at 0x000001C367C8F0A8: empty>}\n",
      "In Meta.init:\n",
      "    <class '__main__.Student'>\n",
      "    Student\n",
      "    (<class '__main__.Person'>,)\n",
      "    {'__module__': '__main__', '__qualname__': 'Student', '__init__': <function Student.__init__ at 0x000001C367CD37B8>, '__str__': <function Student.__str__ at 0x000001C367CD3730>, 'header': <function Student.header at 0x000001C367CD36A8>, '__classcell__': <cell at 0x000001C367C8F0A8: Meta object at 0x000001C366617A18>}\n",
      "    init class object: ['__module__', '__init__', '__str__', 'header', '__doc__']\n"
     ]
    }
   ],
   "source": [
    "class Student(Person, metaclass=Meta):\n",
    "    def __init__(self, id, firstName, lastName, gpa):\n",
    "        print(\"Making a new Student\")\n",
    "        super().__init__(id, firstName, lastName)  # calling the base class constructor\n",
    "        self.gpa = gpa\n",
    "        \n",
    "    def __str__(self):\n",
    "        return f\"{super().__str__()} {self.gpa:>7,.3f}\"\n",
    "    \n",
    "    def header():\n",
    "        return f\"{Person.header()} {'GPA':>7}\""
   ]
  },
  {
   "cell_type": "code",
   "execution_count": 16,
   "metadata": {},
   "outputs": [
    {
     "name": "stdout",
     "output_type": "stream",
     "text": [
      "Making a new Student\n",
      "Making a new Person\n"
     ]
    }
   ],
   "source": [
    "s1 = Student(12345, \"Bill\", \"Marks\", 3.5)"
   ]
  },
  {
   "cell_type": "code",
   "execution_count": 1,
   "metadata": {},
   "outputs": [],
   "source": [
    "def printObject(self):\n",
    "    print(dir(self))\n"
   ]
  },
  {
   "cell_type": "code",
   "execution_count": 56,
   "metadata": {},
   "outputs": [],
   "source": [
    "class Meta2(type):   # class derived from type\n",
    "    def __new__(meta, classname, supers, classdict):\n",
    "        print('In Meta.new:', meta, classname, supers, classdict, sep='\\n    ')\n",
    "        return type.__new__(meta, classname, supers, classdict)\n",
    "    \n",
    "    def __init__(Class, classname, supers, classdict):\n",
    "        print('In Meta.init:', Class, classname, supers, classdict, sep='\\n    ')\n",
    "        # inject a new method into Class\n",
    "        Class.printObject = printObject\n",
    "        \n",
    "    def __call__(Class, *args, **kwds):\n",
    "        # New object of type Class being created\n",
    "        print('In Meta.call:', Class, args, sep='\\n    ')\n",
    "        return type.__call__(Class, *args, **kwds)\n"
   ]
  },
  {
   "cell_type": "code",
   "execution_count": 57,
   "metadata": {},
   "outputs": [
    {
     "name": "stdout",
     "output_type": "stream",
     "text": [
      "In Meta.new:\n",
      "    <class '__main__.Meta2'>\n",
      "    Point\n",
      "    (<class 'object'>,)\n",
      "    {'__module__': '__main__', '__qualname__': 'Point', '__init__': <function Point.__init__ at 0x000001C367DE06A8>, '__str__': <function Point.__str__ at 0x000001C367DE0EA0>}\n",
      "In Meta.init:\n",
      "    <class '__main__.Point'>\n",
      "    Point\n",
      "    (<class 'object'>,)\n",
      "    {'__module__': '__main__', '__qualname__': 'Point', '__init__': <function Point.__init__ at 0x000001C367DE06A8>, '__str__': <function Point.__str__ at 0x000001C367DE0EA0>}\n"
     ]
    }
   ],
   "source": [
    "class Point(object, metaclass=Meta2):\n",
    "    def __init__(self, x, y):\n",
    "        self.x = x\n",
    "        self.y = y\n",
    "        \n",
    "    def __str__(self):\n",
    "        return f\"({self.x}, {self.y})\""
   ]
  },
  {
   "cell_type": "code",
   "execution_count": 58,
   "metadata": {},
   "outputs": [
    {
     "name": "stdout",
     "output_type": "stream",
     "text": [
      "In Meta.call:\n",
      "    <class '__main__.Point'>\n",
      "    (3, 4)\n",
      "(3, 4)\n",
      "['__class__', '__delattr__', '__dict__', '__dir__', '__doc__', '__eq__', '__format__', '__ge__', '__getattr__', '__getattribute__', '__gt__', '__hash__', '__init__', '__init_subclass__', '__le__', '__lt__', '__module__', '__ne__', '__new__', '__reduce__', '__reduce_ex__', '__repr__', '__setattr__', '__sizeof__', '__str__', '__subclasshook__', '__weakref__', 'printObject', 'x', 'y']\n"
     ]
    }
   ],
   "source": [
    "pt1 = Point(3, 4)\n",
    "print(pt1)\n",
    "pt1.printObject()"
   ]
  },
  {
   "cell_type": "code",
   "execution_count": null,
   "metadata": {},
   "outputs": [],
   "source": []
  }
 ],
 "metadata": {
  "kernelspec": {
   "display_name": "Python 3",
   "language": "python",
   "name": "python3"
  },
  "language_info": {
   "codemirror_mode": {
    "name": "ipython",
    "version": 3
   },
   "file_extension": ".py",
   "mimetype": "text/x-python",
   "name": "python",
   "nbconvert_exporter": "python",
   "pygments_lexer": "ipython3",
   "version": "3.7.1"
  }
 },
 "nbformat": 4,
 "nbformat_minor": 2
}
