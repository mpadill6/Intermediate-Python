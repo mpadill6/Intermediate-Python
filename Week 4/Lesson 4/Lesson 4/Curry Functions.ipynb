{
 "cells": [
  {
   "cell_type": "code",
   "execution_count": 17,
   "metadata": {},
   "outputs": [],
   "source": [
    "from functools import reduce"
   ]
  },
  {
   "cell_type": "code",
   "execution_count": 18,
   "metadata": {},
   "outputs": [],
   "source": [
    "# Currying means breaking a function with many arguments into a series of functions that each take one argument \n",
    "# and ultimately produce the same result as the original function.\n",
    "# Currying is converting a single function of n arguments into n functions with a single argument each. \n",
    "# The purpose of function currying is to easily get specialized functions from more general functions.\n",
    "\n",
    "# https://www.python-course.eu/currying_in_python.php\n",
    "# https://www.geeksforgeeks.org/currying-function-in-python/\n",
    "# https://stackoverflow.com/questions/16739290/composing-functions-in-python"
   ]
  },
  {
   "cell_type": "code",
   "execution_count": 19,
   "metadata": {},
   "outputs": [],
   "source": [
    "# Not curried: multiple parameters to one method\n",
    "def not_curry(a, b, c, d, e):\n",
    "    print(a, b, c, d, e)"
   ]
  },
  {
   "cell_type": "code",
   "execution_count": 20,
   "metadata": {},
   "outputs": [
    {
     "name": "stdout",
     "output_type": "stream",
     "text": [
      "1 2 3 4 5\n"
     ]
    }
   ],
   "source": [
    "not_curry(1, 2, 3, 4, 5)"
   ]
  },
  {
   "cell_type": "code",
   "execution_count": 21,
   "metadata": {},
   "outputs": [],
   "source": [
    "# Curried: multiple chained methods each taking one parameter\n",
    "def curry(a):\n",
    "    def c2(b):\n",
    "        def c3(c):\n",
    "            def c4(d):\n",
    "                def c5(e):\n",
    "                    print(a, b, c, d, e)\n",
    "                return c5\n",
    "            return c4\n",
    "        return c3\n",
    "    return c2\n"
   ]
  },
  {
   "cell_type": "code",
   "execution_count": 22,
   "metadata": {},
   "outputs": [
    {
     "name": "stdout",
     "output_type": "stream",
     "text": [
      "1 2 3 4 5\n"
     ]
    }
   ],
   "source": [
    "curry(1)(2)(3)(4)(5)"
   ]
  },
  {
   "cell_type": "code",
   "execution_count": 23,
   "metadata": {},
   "outputs": [
    {
     "name": "stdout",
     "output_type": "stream",
     "text": [
      "1 2 3 4 5\n"
     ]
    }
   ],
   "source": [
    "temp = curry(1)(2)\n",
    "temp(3)(4)(5)"
   ]
  },
  {
   "cell_type": "code",
   "execution_count": 26,
   "metadata": {},
   "outputs": [],
   "source": [
    "def compose2(f, g):\n",
    "    def a(x):\n",
    "        return g(f(x))\n",
    "    return a\n",
    "\n",
    "def FeetToInches(value):\n",
    "    print(f\"FeetToInches({value})\")\n",
    "    return (12 * value)\n",
    "\n",
    "def MilesToFeet(value):\n",
    "    print(f\"MilesToFeet({value})\")\n",
    "    return (5280 * value)"
   ]
  },
  {
   "cell_type": "code",
   "execution_count": 27,
   "metadata": {},
   "outputs": [
    {
     "name": "stdout",
     "output_type": "stream",
     "text": [
      "MilesToFeet(1)\n",
      "FeetToInches(5280)\n",
      "63360\n"
     ]
    }
   ],
   "source": [
    "convert = compose2(MilesToFeet, FeetToInches)\n",
    "inch = convert(1)\n",
    "print (inch)\n"
   ]
  },
  {
   "cell_type": "code",
   "execution_count": 31,
   "metadata": {},
   "outputs": [],
   "source": [
    "# Fancy way of composing many functions together using reduce and lambdas\n",
    "#compose = lambda *F: reduce(lambda f, g: lambda x: g(f(x)), F)\n",
    "\n",
    "# Less complex version of the same function:\n",
    "def compose(*functions):\n",
    "    return reduce(lambda f, g: lambda x: g(f(x)), functions)\n"
   ]
  },
  {
   "cell_type": "code",
   "execution_count": 32,
   "metadata": {},
   "outputs": [
    {
     "name": "stdout",
     "output_type": "stream",
     "text": [
      "MilesToFeet(2.5)\n",
      "FeetToInches(13200.0)\n",
      "158400.0\n"
     ]
    }
   ],
   "source": [
    "convert = compose(MilesToFeet, FeetToInches)\n",
    "inch = convert(2.5)\n",
    "print (inch)"
   ]
  },
  {
   "cell_type": "code",
   "execution_count": 33,
   "metadata": {},
   "outputs": [],
   "source": [
    "def KmToMiles(value):\n",
    "    print(f\"KmToMiles({value})\")\n",
    "    return (0.62137119 * value)"
   ]
  },
  {
   "cell_type": "code",
   "execution_count": 34,
   "metadata": {},
   "outputs": [
    {
     "name": "stdout",
     "output_type": "stream",
     "text": [
      "KmToMiles(7)\n",
      "MilesToFeet(4.34959833)\n",
      "FeetToInches(22965.8791824)\n",
      "275590.55018879997\n"
     ]
    }
   ],
   "source": [
    "convert = compose(KmToMiles, MilesToFeet, FeetToInches)\n",
    "inch = convert(7)\n",
    "print (inch)"
   ]
  },
  {
   "cell_type": "code",
   "execution_count": 15,
   "metadata": {},
   "outputs": [],
   "source": [
    "def sqrt(value):\n",
    "    return value ** 0.5\n",
    "\n",
    "def doubleMe(value):\n",
    "    return value * 2"
   ]
  },
  {
   "cell_type": "code",
   "execution_count": 16,
   "metadata": {},
   "outputs": [
    {
     "name": "stdout",
     "output_type": "stream",
     "text": [
      "4.47213595499958\n"
     ]
    }
   ],
   "source": [
    "convert = compose(doubleMe, sqrt)\n",
    "print(convert(5))"
   ]
  },
  {
   "cell_type": "code",
   "execution_count": null,
   "metadata": {},
   "outputs": [],
   "source": []
  }
 ],
 "metadata": {
  "kernelspec": {
   "display_name": "Python 3",
   "language": "python",
   "name": "python3"
  },
  "language_info": {
   "codemirror_mode": {
    "name": "ipython",
    "version": 3
   },
   "file_extension": ".py",
   "mimetype": "text/x-python",
   "name": "python",
   "nbconvert_exporter": "python",
   "pygments_lexer": "ipython3",
   "version": "3.7.0"
  }
 },
 "nbformat": 4,
 "nbformat_minor": 2
}
