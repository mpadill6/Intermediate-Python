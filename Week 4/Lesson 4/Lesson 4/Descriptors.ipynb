{
 "cells": [
  {
   "cell_type": "code",
   "execution_count": null,
   "metadata": {},
   "outputs": [],
   "source": [
    "# Descriptors"
   ]
  },
  {
   "cell_type": "code",
   "execution_count": 1,
   "metadata": {},
   "outputs": [],
   "source": [
    "class Name: \n",
    "    \"\"\"name descriptor \"\"\"\n",
    "    def __get__(self, instance, owner):\n",
    "        print('fetch...')\n",
    "        print([self, instance, owner])\n",
    "        return instance._name\n",
    "    \n",
    "    def __set__(self, instance, value):\n",
    "        print('change...')\n",
    "        instance._name = value\n",
    "    \n",
    "    def __delete__(self, instance):\n",
    "        print('remove...')\n",
    "        del instance._name\n",
    "    \n",
    "class Person: \n",
    "    def __init__(self, id, name):\n",
    "        self.id = id\n",
    "        self._name = name\n",
    "\n",
    "    def __str__(self):\n",
    "        return f\"ID: {self.id}  Name: {self.name}\"\n",
    "        \n",
    "    name = Name() # Assign descriptor to attr, otherwise it is just a regular attribute\n",
    "    # but don't assign it to id!"
   ]
  },
  {
   "cell_type": "code",
   "execution_count": 2,
   "metadata": {},
   "outputs": [
    {
     "name": "stdout",
     "output_type": "stream",
     "text": [
      "fetch...\n",
      "[<__main__.Name object at 0x000001FF8B78B160>, <__main__.Person object at 0x000001FF8B78BF98>, <class '__main__.Person'>]\n",
      "Bob Smith\n",
      "change...\n",
      "fetch...\n",
      "[<__main__.Name object at 0x000001FF8B78B160>, <__main__.Person object at 0x000001FF8B78BF98>, <class '__main__.Person'>]\n",
      "Robert Smith\n",
      "12345\n",
      "fetch...\n",
      "[<__main__.Name object at 0x000001FF8B78B160>, <__main__.Person object at 0x000001FF8B78BF98>, <class '__main__.Person'>]\n",
      "ID: 12345  Name: Robert Smith\n",
      "remove...\n",
      "--------------------\n",
      "fetch...\n",
      "[<__main__.Name object at 0x000001FF8B78B160>, <__main__.Person object at 0x000001FF8B79A128>, <class '__main__.Person'>]\n",
      "Sue Jones\n",
      "54321\n",
      "name descriptor \n"
     ]
    }
   ],
   "source": [
    "bob = Person(12345, 'Bob Smith') # bob has a managed attribute\n",
    "print(bob.name) # Runs Name.__get__\n",
    "bob.name = 'Robert Smith' # Runs Name.__set__\n",
    "print(bob.name)  # call Name.__get__\n",
    "print(bob.id)\n",
    "\n",
    "print(bob)  # calls __str__ (which will call Name.__get__)\n",
    "\n",
    "del bob.name # Runs Name.__delete__\n",
    "\n",
    "print('-'*20)\n",
    "\n",
    "sue = Person(54321, 'Sue Jones') # sue inherits descriptor too\n",
    "print(sue.name)\n",
    "print(sue.id)\n",
    "\n",
    "print(Name.__doc__) # Or help(Name)"
   ]
  },
  {
   "cell_type": "code",
   "execution_count": 18,
   "metadata": {},
   "outputs": [],
   "source": [
    "class VIN: \n",
    "    \"\"\"VIN descriptor\"\"\"\n",
    "    def __get__(self, instance, owner):\n",
    "        print('fetch VIN...')\n",
    "        return instance._vin\n",
    "    \n",
    "    def __set__(self, instance, value):\n",
    "        print('change VIN...')\n",
    "        if type(value) is str and len(value) == 17:\n",
    "            instance._vin = value\n",
    "            instance.manufacturer = value[0:3]\n",
    "            instance.vehicle_description = value[3:10]\n",
    "            instance.vehicle_identifier = value[10:]\n",
    "        else:\n",
    "            print('bad VIN...')\n",
    "    \n",
    "    def __delete__(self, instance):\n",
    "        print(\"don't allow VIN remove...\")\n",
    "        #del instance._vin\n",
    "    \n",
    "class Car: \n",
    "    def __init__(self, vin, make, model):\n",
    "        #self._vin = vin   # use this if you want the initializer to bypass the descriptor\n",
    "        self.vin = vin  # descriptor rules must be followed since we are not assigning directly to _vin\n",
    "        self.make = make\n",
    "        self.model = model\n",
    "\n",
    "    def __str__(self):\n",
    "        return f\"{self.vin} {self.make} {self.model}\"\n",
    "        \n",
    "    vin = VIN() # Assign descriptor to attr, otherwise it is just a regular attribute"
   ]
  },
  {
   "cell_type": "code",
   "execution_count": 22,
   "metadata": {},
   "outputs": [
    {
     "name": "stdout",
     "output_type": "stream",
     "text": [
      "change VIN...\n",
      "fetch VIN...\n",
      "ABC12345678901234 Honda Civic\n",
      "change VIN...\n",
      "bad VIN...\n",
      "ABC 1234567 8901234\n"
     ]
    }
   ],
   "source": [
    "c =Car(\"ABC12345678901234\", \"Honda\", \"Civic\")\n",
    "print(c)\n",
    "c.vin = \"TooShort\"\n",
    "print(c.manufacturer, c.vehicle_description, c.vehicle_identifier)"
   ]
  },
  {
   "cell_type": "code",
   "execution_count": null,
   "metadata": {},
   "outputs": [],
   "source": []
  }
 ],
 "metadata": {
  "kernelspec": {
   "display_name": "Python 3",
   "language": "python",
   "name": "python3"
  },
  "language_info": {
   "codemirror_mode": {
    "name": "ipython",
    "version": 3
   },
   "file_extension": ".py",
   "mimetype": "text/x-python",
   "name": "python",
   "nbconvert_exporter": "python",
   "pygments_lexer": "ipython3",
   "version": "3.7.0"
  }
 },
 "nbformat": 4,
 "nbformat_minor": 2
}
