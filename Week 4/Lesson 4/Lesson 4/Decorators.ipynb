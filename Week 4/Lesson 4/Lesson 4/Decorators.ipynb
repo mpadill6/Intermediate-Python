{
 "cells": [
  {
   "cell_type": "code",
   "execution_count": 1,
   "metadata": {},
   "outputs": [],
   "source": [
    "# Function decorators - augment function definitions. They specify special operation modes for both simple functions and \n",
    "# classes' methods by wrapping them in an extra layer of logic implemented as another function, usually called a metafunction.\n",
    "# https://stackoverflow.com/questions/136097/what-is-the-difference-between-staticmethod-and-classmethod"
   ]
  },
  {
   "cell_type": "code",
   "execution_count": 3,
   "metadata": {},
   "outputs": [],
   "source": [
    "class TestClass(object):\n",
    "    def instance_method(self, x):\n",
    "        print([self, x])\n",
    "        \n",
    "    @staticmethod\n",
    "    def static_method(x):\n",
    "        print([x])\n",
    "        \n",
    "    @classmethod\n",
    "    def class_method(cls, x):\n",
    "        print([cls, x])\n",
    "        \n",
    "    @property\n",
    "    def name(self):\n",
    "        return self.__class__.__name__\n",
    "        "
   ]
  },
  {
   "cell_type": "code",
   "execution_count": 4,
   "metadata": {},
   "outputs": [
    {
     "name": "stdout",
     "output_type": "stream",
     "text": [
      "[<__main__.TestClass object at 0x0000021F7D145B38>, 1]\n",
      "[2]\n",
      "[3]\n",
      "[<class '__main__.TestClass'>, 4]\n",
      "[<class '__main__.TestClass'>, 4]\n",
      "TestClass\n"
     ]
    }
   ],
   "source": [
    "test = TestClass()\n",
    "\n",
    "# call instance method:\n",
    "test.instance_method(1)\n",
    "\n",
    "# call static method:\n",
    "test.static_method(2)\n",
    "# or\n",
    "TestClass.static_method(3)\n",
    "\n",
    "# call class method\n",
    "test.class_method(4)\n",
    "# or\n",
    "TestClass.class_method(4)\n",
    "\n",
    "# call proprty\n",
    "print(test.name)\n"
   ]
  },
  {
   "cell_type": "code",
   "execution_count": 5,
   "metadata": {},
   "outputs": [],
   "source": [
    "# custom function decorator\n",
    "def log(func):\n",
    "    def call(*args):\n",
    "        call.counter += 1  # because functions are objects, we can assign a variable to it at will\n",
    "        print(f\"call #{call.counter} to {func.__name__}: {args}\")\n",
    "        return func(*args)\n",
    "    print(f\"Setting up @log on {func.__name__}\")\n",
    "    call.counter = 0\n",
    "    return call"
   ]
  },
  {
   "cell_type": "code",
   "execution_count": 6,
   "metadata": {},
   "outputs": [
    {
     "name": "stdout",
     "output_type": "stream",
     "text": [
      "Setting up @log on power\n",
      "Setting up @log on add\n"
     ]
    }
   ],
   "source": [
    "@log\n",
    "def power(base, pow):\n",
    "    return base ** pow\n",
    "\n",
    "@log\n",
    "def add(x, y):\n",
    "    return x + y"
   ]
  },
  {
   "cell_type": "code",
   "execution_count": 6,
   "metadata": {},
   "outputs": [
    {
     "name": "stdout",
     "output_type": "stream",
     "text": [
      "call #1 to power: (3, 2)\n",
      "9\n",
      "call #2 to power: (2, 2)\n",
      "4\n",
      "call #3 to power: (4, 3)\n",
      "64\n",
      "call #1 to add: (3, 2)\n",
      "5\n",
      "call #2 to add: (2, 2)\n",
      "4\n",
      "call #3 to add: (4, 3)\n",
      "7\n",
      "call #4 to power: (2, 3)\n",
      "8\n"
     ]
    }
   ],
   "source": [
    "print(power(3, 2))\n",
    "print(power(2, 2))\n",
    "print(power(4, 3))\n",
    "\n",
    "print(add(3, 2))\n",
    "print(add(2, 2))\n",
    "print(add(4, 3))\n",
    "\n",
    "print(power(2, 3))"
   ]
  },
  {
   "cell_type": "code",
   "execution_count": 7,
   "metadata": {},
   "outputs": [],
   "source": [
    "# custom class decorator (not particularly useful)\n",
    "def classlog(cls):\n",
    "    print(f\"The {cls.__name__} class was run\")\n",
    "    return cls"
   ]
  },
  {
   "cell_type": "code",
   "execution_count": 8,
   "metadata": {},
   "outputs": [
    {
     "name": "stdout",
     "output_type": "stream",
     "text": [
      "The Person class was run\n"
     ]
    }
   ],
   "source": [
    "@classlog\n",
    "class Person:\n",
    "    def __init__(self, lastName, firstName):\n",
    "        self.lastName = lastName\n",
    "        self.firstName = firstName\n",
    "    \n",
    "    def __str__():\n",
    "        return f\"{lastName}, {firstName}\""
   ]
  },
  {
   "cell_type": "code",
   "execution_count": 9,
   "metadata": {},
   "outputs": [
    {
     "name": "stdout",
     "output_type": "stream",
     "text": [
      "The Dummy class was run\n"
     ]
    }
   ],
   "source": [
    "@classlog\n",
    "class Dummy : pass"
   ]
  },
  {
   "cell_type": "code",
   "execution_count": 18,
   "metadata": {},
   "outputs": [],
   "source": [
    "def classlog2(cls):\n",
    "    print(f\"The {cls.__name__} class was run\")\n",
    "    instances = {}\n",
    "    class Wrapper(object):\n",
    "        def __init__(self, *args):\n",
    "            if not cls.__name__ in instances:\n",
    "                instances[cls.__name__] = 0\n",
    "            instances[cls.__name__] += 1\n",
    "            print(f\"Creating instance #{instances[cls.__name__]} of {cls.__name__}\")\n",
    "            self.wrapped = cls(*args)\n",
    "\n",
    "        def __getattr__(self, name):\n",
    "            print(f'Getting the {name} value of {self.wrapped}')\n",
    "            return getattr(self.wrapped, name)\n",
    "    return Wrapper"
   ]
  },
  {
   "cell_type": "code",
   "execution_count": 19,
   "metadata": {},
   "outputs": [],
   "source": [
    "@classlog2\n",
    "class Dummy2 : pass"
   ]
  },
  {
   "cell_type": "code",
   "execution_count": 20,
   "metadata": {},
   "outputs": [
    {
     "name": "stdout",
     "output_type": "stream",
     "text": [
      "Creating instance #1 of Dummy2\n"
     ]
    }
   ],
   "source": [
    "d1 = Dummy2()"
   ]
  },
  {
   "cell_type": "code",
   "execution_count": 21,
   "metadata": {},
   "outputs": [
    {
     "name": "stdout",
     "output_type": "stream",
     "text": [
      "Creating instance #2 of Dummy2\n"
     ]
    }
   ],
   "source": [
    "d2 = Dummy2()"
   ]
  },
  {
   "cell_type": "code",
   "execution_count": 22,
   "metadata": {},
   "outputs": [],
   "source": [
    "@classlog2\n",
    "class Dummy3:\n",
    "    def __init__(self, x):\n",
    "        self.x = x"
   ]
  },
  {
   "cell_type": "code",
   "execution_count": 23,
   "metadata": {},
   "outputs": [
    {
     "name": "stdout",
     "output_type": "stream",
     "text": [
      "Creating instance #1 of Dummy3\n"
     ]
    }
   ],
   "source": [
    "d3 = Dummy3(123)"
   ]
  },
  {
   "cell_type": "code",
   "execution_count": 24,
   "metadata": {},
   "outputs": [
    {
     "name": "stdout",
     "output_type": "stream",
     "text": [
      "Getting the x value of <__main__.Dummy3 object at 0x000001EFF9EDCE80>\n",
      "123\n"
     ]
    }
   ],
   "source": [
    "print(d3.x)"
   ]
  },
  {
   "cell_type": "code",
   "execution_count": null,
   "metadata": {},
   "outputs": [],
   "source": []
  }
 ],
 "metadata": {
  "kernelspec": {
   "display_name": "Python 3",
   "language": "python",
   "name": "python3"
  },
  "language_info": {
   "codemirror_mode": {
    "name": "ipython",
    "version": 3
   },
   "file_extension": ".py",
   "mimetype": "text/x-python",
   "name": "python",
   "nbconvert_exporter": "python",
   "pygments_lexer": "ipython3",
   "version": "3.7.0"
  }
 },
 "nbformat": 4,
 "nbformat_minor": 2
}
