{
 "cells": [
  {
   "cell_type": "code",
   "execution_count": 7,
   "metadata": {},
   "outputs": [],
   "source": [
    "import math"
   ]
  },
  {
   "cell_type": "code",
   "execution_count": null,
   "metadata": {},
   "outputs": [],
   "source": [
    "# Generator function contains one or more yield statement.\n",
    "# When called, it returns an object (iterator) but does not start execution immediately.\n",
    "# Methods like __iter__() and __next__() are implemented automatically. So we can iterate through the items using next().\n",
    "# Once the function yields, the function is paused and the control is transferred to the caller.\n",
    "# Local variables and their states are remembered between successive calls.\n",
    "# Finally, when the function terminates, StopIteration is raised automatically on further calls."
   ]
  },
  {
   "cell_type": "code",
   "execution_count": 1,
   "metadata": {},
   "outputs": [],
   "source": [
    "class MyIter:\n",
    "    def __init__(self, max = 0):\n",
    "        self.max = max\n",
    "\n",
    "    def __iter__(self):\n",
    "        self.n = 0\n",
    "        return self\n",
    "\n",
    "    def __next__(self):\n",
    "        if self.n <= self.max:\n",
    "            result = self.n\n",
    "            self.n += 1\n",
    "            return result\n",
    "        else:\n",
    "            raise StopIteration"
   ]
  },
  {
   "cell_type": "code",
   "execution_count": 2,
   "metadata": {},
   "outputs": [
    {
     "name": "stdout",
     "output_type": "stream",
     "text": [
      "0\n",
      "1\n",
      "2\n",
      "3\n",
      "4\n",
      "5\n",
      "6\n",
      "7\n",
      "8\n",
      "9\n",
      "10\n"
     ]
    }
   ],
   "source": [
    "for x in MyIter(10):\n",
    "    print(x)"
   ]
  },
  {
   "cell_type": "code",
   "execution_count": 4,
   "metadata": {},
   "outputs": [],
   "source": [
    "def my_gen():\n",
    "    n = 1\n",
    "    print('This is printed first')\n",
    "    # Generator function contains yield statements\n",
    "    yield n\n",
    "\n",
    "    n += 1\n",
    "    print('This is printed second')\n",
    "    yield n\n",
    "\n",
    "    n += 1\n",
    "    print('This is printed at last')\n",
    "    yield n"
   ]
  },
  {
   "cell_type": "code",
   "execution_count": 5,
   "metadata": {},
   "outputs": [
    {
     "name": "stdout",
     "output_type": "stream",
     "text": [
      "This is printed first\n",
      "1\n",
      "This is printed second\n",
      "2\n",
      "This is printed at last\n",
      "3\n"
     ]
    }
   ],
   "source": [
    "gen = my_gen()\n",
    "print(next(gen))\n",
    "print(next(gen))\n",
    "print(next(gen))\n",
    "# print(next(gen))  <-- This would yield StopIteration"
   ]
  },
  {
   "cell_type": "code",
   "execution_count": 6,
   "metadata": {},
   "outputs": [
    {
     "name": "stdout",
     "output_type": "stream",
     "text": [
      "This is printed first\n",
      "1\n",
      "This is printed second\n",
      "2\n",
      "This is printed at last\n",
      "3\n"
     ]
    }
   ],
   "source": [
    "for x in my_gen():\n",
    "    print(x)"
   ]
  },
  {
   "cell_type": "code",
   "execution_count": null,
   "metadata": {},
   "outputs": [],
   "source": [
    "def my_gen2(max = 0):\n",
    "    for n in range(max + 1):\n",
    "        yield n"
   ]
  },
  {
   "cell_type": "code",
   "execution_count": null,
   "metadata": {},
   "outputs": [],
   "source": [
    "for x in my_gen2(10):\n",
    "    print(x)"
   ]
  },
  {
   "cell_type": "code",
   "execution_count": 7,
   "metadata": {},
   "outputs": [
    {
     "name": "stdout",
     "output_type": "stream",
     "text": [
      "This is printed first\n",
      "x = 1\n",
      "This is printed first\n",
      "y = 1\n",
      "This is printed second\n",
      "y = 2\n",
      "This is printed at last\n",
      "y = 3\n",
      "This is printed second\n",
      "x = 2\n",
      "This is printed first\n",
      "y = 1\n",
      "This is printed second\n",
      "y = 2\n",
      "This is printed at last\n",
      "y = 3\n",
      "This is printed at last\n",
      "x = 3\n",
      "This is printed first\n",
      "y = 1\n",
      "This is printed second\n",
      "y = 2\n",
      "This is printed at last\n",
      "y = 3\n"
     ]
    }
   ],
   "source": [
    "# Each loop keeps track of its own generator function...\n",
    "# Note: interesting example, but don't do this!\n",
    "for x in my_gen():\n",
    "    print(f\"x = {x}\")\n",
    "    for y in my_gen():\n",
    "        print(f\"y = {y}\")"
   ]
  },
  {
   "cell_type": "code",
   "execution_count": 6,
   "metadata": {},
   "outputs": [],
   "source": [
    "def rev_str(my_str):\n",
    "    length = len(my_str)\n",
    "    for i in range(length - 1,-1,-1):\n",
    "        yield my_str[i]\n"
   ]
  },
  {
   "cell_type": "code",
   "execution_count": 7,
   "metadata": {},
   "outputs": [
    {
     "name": "stdout",
     "output_type": "stream",
     "text": [
      "o\n",
      "l\n",
      "l\n",
      "e\n",
      "h\n"
     ]
    }
   ],
   "source": [
    "for char in rev_str(\"hello\"):\n",
    "     print(char)"
   ]
  },
  {
   "cell_type": "code",
   "execution_count": null,
   "metadata": {},
   "outputs": [],
   "source": [
    "#https://www.programiz.com/python-programming/generator\n",
    "#"
   ]
  },
  {
   "cell_type": "code",
   "execution_count": 13,
   "metadata": {},
   "outputs": [
    {
     "name": "stdout",
     "output_type": "stream",
     "text": [
      "<class 'list'>\n",
      "3\n",
      "4\n",
      "5\n"
     ]
    }
   ],
   "source": [
    "# This creates a list in memory with all three elements:\n",
    "my_list = [(n for n in range(3, 6))]\n",
    "print(type(my_list))\n",
    "\n",
    "# Generator expression, values are generated as needed (lazy execution)\n",
    "my_gen = (n for n in range(3, 6))\n",
    "print(next(my_gen))\n",
    "print(next(my_gen))\n",
    "print(next(my_gen))"
   ]
  },
  {
   "cell_type": "code",
   "execution_count": 18,
   "metadata": {},
   "outputs": [],
   "source": [
    "def my_power(base, exp):\n",
    "    print (f\"Executing my_power({base}, {exp})\")\n",
    "    yield base ** exp"
   ]
  },
  {
   "cell_type": "code",
   "execution_count": 24,
   "metadata": {},
   "outputs": [],
   "source": [
    "# The my_power method is executed on demand, not all at once\n",
    "d = list( (my_power(k, 3) for k in range(4)))"
   ]
  },
  {
   "cell_type": "code",
   "execution_count": 25,
   "metadata": {},
   "outputs": [
    {
     "name": "stdout",
     "output_type": "stream",
     "text": [
      "Executing my_power(0, 3)\n",
      "0\n",
      "Executing my_power(1, 3)\n",
      "1\n",
      "Executing my_power(2, 3)\n",
      "8\n",
      "Executing my_power(3, 3)\n",
      "27\n"
     ]
    }
   ],
   "source": [
    "for i in d:\n",
    "    print(next(i))"
   ]
  },
  {
   "cell_type": "code",
   "execution_count": 5,
   "metadata": {},
   "outputs": [],
   "source": [
    "def is_prime(number):\n",
    "    if number > 1:\n",
    "        if number == 2:\n",
    "            return True\n",
    "        if number % 2 == 0:\n",
    "            return False\n",
    "        for current in range(3, int(math.sqrt(number) + 1), 2):  # 3 to sqrt(n)+1 .. skip by 2\n",
    "            if number % current == 0: \n",
    "                return False\n",
    "        return True\n",
    "    return False"
   ]
  },
  {
   "cell_type": "code",
   "execution_count": 39,
   "metadata": {},
   "outputs": [],
   "source": [
    "def get_primes(number):\n",
    "    while True:\n",
    "        if is_prime(number):\n",
    "            yield number\n",
    "        number += 1 "
   ]
  },
  {
   "cell_type": "code",
   "execution_count": 40,
   "metadata": {},
   "outputs": [
    {
     "name": "stdout",
     "output_type": "stream",
     "text": [
      "2\n",
      "3\n",
      "5\n",
      "7\n",
      "11\n",
      "13\n",
      "17\n",
      "19\n",
      "23\n",
      "29\n"
     ]
    }
   ],
   "source": [
    "# Get first 10 primes:\n",
    "gen = get_primes(1)\n",
    "for i in range(10):\n",
    "    print(next(gen))"
   ]
  },
  {
   "cell_type": "code",
   "execution_count": 41,
   "metadata": {},
   "outputs": [
    {
     "name": "stdout",
     "output_type": "stream",
     "text": [
      "101\n",
      "103\n",
      "107\n",
      "109\n",
      "113\n",
      "127\n",
      "131\n",
      "137\n",
      "139\n",
      "149\n"
     ]
    }
   ],
   "source": [
    "# get first 10 primes greater than 100\n",
    "gen = get_primes(100)\n",
    "for i in range(10):\n",
    "    print(next(gen))"
   ]
  },
  {
   "cell_type": "code",
   "execution_count": 11,
   "metadata": {},
   "outputs": [],
   "source": [
    "def get_primes(number):\n",
    "    while True:\n",
    "        if is_prime(number):\n",
    "            send_value = yield number  # allows number to be reset using \"send\"\n",
    "            if send_value != None: number = send_value\n",
    "        number += 1"
   ]
  },
  {
   "cell_type": "code",
   "execution_count": 14,
   "metadata": {},
   "outputs": [
    {
     "name": "stdout",
     "output_type": "stream",
     "text": [
      "first call: 2\n",
      "3\n",
      "7\n",
      "17\n",
      "37\n",
      "79\n",
      "163\n",
      "331\n",
      "673\n",
      "1361\n",
      "2729\n"
     ]
    }
   ],
   "source": [
    "# each time a prime is found, reset \"number\" to double the last found prime...\n",
    "prime_generator = get_primes(1)\n",
    "prime = 1\n",
    "iterations = 10\n",
    "print(f\"first call: {next(prime_generator)}\")\n",
    "for i in range(iterations):\n",
    "    prime = prime_generator.send(prime * 2)  # reset the \"number\" argument\n",
    "    print(prime)\n",
    "    "
   ]
  },
  {
   "cell_type": "code",
   "execution_count": null,
   "metadata": {},
   "outputs": [],
   "source": []
  },
  {
   "cell_type": "code",
   "execution_count": null,
   "metadata": {},
   "outputs": [],
   "source": []
  }
 ],
 "metadata": {
  "kernelspec": {
   "display_name": "Python 3",
   "language": "python",
   "name": "python3"
  },
  "language_info": {
   "codemirror_mode": {
    "name": "ipython",
    "version": 3
   },
   "file_extension": ".py",
   "mimetype": "text/x-python",
   "name": "python",
   "nbconvert_exporter": "python",
   "pygments_lexer": "ipython3",
   "version": "3.7.0"
  }
 },
 "nbformat": 4,
 "nbformat_minor": 2
}
