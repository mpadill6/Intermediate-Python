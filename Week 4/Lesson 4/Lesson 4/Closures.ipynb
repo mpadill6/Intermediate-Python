{
 "cells": [
  {
   "cell_type": "code",
   "execution_count": 5,
   "metadata": {},
   "outputs": [],
   "source": [
    "# https://en.wikipedia.org/wiki/Closure_(computer_programming)\n",
    "# From https://www.geeksforgeeks.org/python-closures/\n",
    "# A Closure is a function object that remembers values in enclosing scopes even if they are not present in memory.\n",
    "# It is a record that stores a function together with an environment: a mapping associating each free variable of the function (variables that are used locally, but defined in an enclosing scope) with the value or reference to which the name was bound when the closure was created.\n",
    "# A closure—unlike a plain function—allows the function to access those captured variables through the closure’s copies of their values or references, even when the function is invoked outside their scope."
   ]
  },
  {
   "cell_type": "code",
   "execution_count": 6,
   "metadata": {},
   "outputs": [],
   "source": [
    "# Closures\n",
    "# this function returns a lambda that will multiply n by whatever is passed to the lambda\n",
    "def multiplier(n):\n",
    "    return lambda x : x * n"
   ]
  },
  {
   "cell_type": "code",
   "execution_count": 7,
   "metadata": {},
   "outputs": [
    {
     "name": "stdout",
     "output_type": "stream",
     "text": [
      "doubler is type <class 'function'>\n",
      "Help on function <lambda> in module __main__:\n",
      "\n",
      "<lambda> lambda x\n",
      "\n",
      "None\n",
      "10\n",
      "14\n",
      "15\n",
      "21\n",
      "16.5\n",
      "AAA\n"
     ]
    }
   ],
   "source": [
    "doubler = multiplier(2)  # The 2 is used as \"n\" in the lambda.  It is passed to the multiplier function.\n",
    "# Now, the doubler variable is actually an anonymous function that will execute the lambda when called.\n",
    "print(f\"doubler is type {type(doubler)}\")\n",
    "print(help(doubler))\n",
    "\n",
    "print(doubler(5))  # The 5 is used as \"x\" in the lambda.  It is passed to the lambda which is stored in doubler.\n",
    "print(doubler(7))  # The 7 is used as \"x\" in the lambda.\n",
    "\n",
    "tripler = multiplier(3) # This time, create a lambda where \"n\" is always 3 and store it in tripler.\n",
    "print(tripler(5))\n",
    "print(tripler(7))\n",
    "print(tripler(5.5))\n",
    "print(tripler(\"A\"))"
   ]
  },
  {
   "cell_type": "code",
   "execution_count": 4,
   "metadata": {},
   "outputs": [
    {
     "name": "stdout",
     "output_type": "stream",
     "text": [
      "28\n"
     ]
    }
   ],
   "source": [
    "# You can also call the closure lambda directly without using a temporary variable:\n",
    "print(multiplier(4)(7))\n",
    "# multiplier(4) returns"
   ]
  },
  {
   "cell_type": "code",
   "execution_count": 2,
   "metadata": {},
   "outputs": [],
   "source": [
    "def square_me_later(x):\n",
    "    value = x\n",
    "    # we can define a formal method withion a method, not just lambdas!\n",
    "    def square_me():\n",
    "        return value ** 2\n",
    "    \n",
    "    return square_me"
   ]
  },
  {
   "cell_type": "code",
   "execution_count": 4,
   "metadata": {},
   "outputs": [
    {
     "name": "stdout",
     "output_type": "stream",
     "text": [
      "100\n"
     ]
    }
   ],
   "source": [
    "sml = square_me_later(10)\n",
    "\n",
    "print(sml())"
   ]
  },
  {
   "cell_type": "code",
   "execution_count": null,
   "metadata": {},
   "outputs": [],
   "source": []
  }
 ],
 "metadata": {
  "kernelspec": {
   "display_name": "Python 3",
   "language": "python",
   "name": "python3"
  },
  "language_info": {
   "codemirror_mode": {
    "name": "ipython",
    "version": 3
   },
   "file_extension": ".py",
   "mimetype": "text/x-python",
   "name": "python",
   "nbconvert_exporter": "python",
   "pygments_lexer": "ipython3",
   "version": "3.7.0"
  }
 },
 "nbformat": 4,
 "nbformat_minor": 2
}
