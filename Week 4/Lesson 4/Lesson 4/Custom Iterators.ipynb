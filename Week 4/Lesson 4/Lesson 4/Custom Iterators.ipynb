{
 "cells": [
  {
   "cell_type": "code",
   "execution_count": null,
   "metadata": {},
   "outputs": [],
   "source": [
    "# Make code screen wider\n",
    "from IPython.core.display import display, HTML\n",
    "display(HTML(\"<style>.container { width:80% !important; }</style>\"))"
   ]
  },
  {
   "cell_type": "code",
   "execution_count": 1,
   "metadata": {},
   "outputs": [
    {
     "name": "stdout",
     "output_type": "stream",
     "text": [
      "4\n",
      "7\n",
      "0\n",
      "3\n"
     ]
    }
   ],
   "source": [
    "# define a list\n",
    "my_list = [4, 7, 0, 3]\n",
    "\n",
    "# using for loop:\n",
    "for x in my_list:\n",
    "    print(x)\n"
   ]
  },
  {
   "cell_type": "code",
   "execution_count": 2,
   "metadata": {},
   "outputs": [
    {
     "name": "stdout",
     "output_type": "stream",
     "text": [
      "4\n",
      "7\n",
      "0\n",
      "3\n"
     ]
    },
    {
     "ename": "StopIteration",
     "evalue": "",
     "output_type": "error",
     "traceback": [
      "\u001b[1;31m---------------------------------------------------------------------------\u001b[0m",
      "\u001b[1;31mStopIteration\u001b[0m                             Traceback (most recent call last)",
      "\u001b[1;32m<ipython-input-2-57e5bacc2cc1>\u001b[0m in \u001b[0;36m<module>\u001b[1;34m()\u001b[0m\n\u001b[0;32m     20\u001b[0m \u001b[1;33m\u001b[0m\u001b[0m\n\u001b[0;32m     21\u001b[0m \u001b[1;31m## This will raise error, no items left\u001b[0m\u001b[1;33m\u001b[0m\u001b[1;33m\u001b[0m\u001b[0m\n\u001b[1;32m---> 22\u001b[1;33m \u001b[0mnext\u001b[0m\u001b[1;33m(\u001b[0m\u001b[0mmy_iter\u001b[0m\u001b[1;33m)\u001b[0m\u001b[1;33m\u001b[0m\u001b[0m\n\u001b[0m",
      "\u001b[1;31mStopIteration\u001b[0m: "
     ]
    }
   ],
   "source": [
    "\n",
    "# get an iterator using iter()\n",
    "my_iter = iter(my_list)\n",
    "\n",
    "## iterate through it using next() \n",
    "\n",
    "#prints 4\n",
    "print(next(my_iter))\n",
    "\n",
    "#prints 7\n",
    "print(next(my_iter))\n",
    "\n",
    "## next(obj) is same as obj.__next__()\n",
    "\n",
    "#prints 0\n",
    "print(my_iter.__next__())\n",
    "\n",
    "#prints 3\n",
    "print(my_iter.__next__())\n",
    "\n",
    "## This will raise error, no items left\n",
    "next(my_iter)"
   ]
  },
  {
   "cell_type": "code",
   "execution_count": 3,
   "metadata": {},
   "outputs": [],
   "source": [
    "class PowTwo:\n",
    "    \"\"\"Class to implement an iterator\n",
    "    of powers of two\"\"\"\n",
    "\n",
    "    def __init__(self, max = 0):\n",
    "        self.max = max\n",
    "\n",
    "    def __iter__(self):\n",
    "        self.n = 0\n",
    "        return self\n",
    "\n",
    "    def __next__(self):\n",
    "        if self.n <= self.max:\n",
    "            result = 2 ** self.n\n",
    "            self.n += 1\n",
    "            return result\n",
    "        else:\n",
    "            raise StopIteration"
   ]
  },
  {
   "cell_type": "code",
   "execution_count": 24,
   "metadata": {},
   "outputs": [
    {
     "name": "stdout",
     "output_type": "stream",
     "text": [
      "1\n",
      "2\n",
      "4\n",
      "8\n",
      "16\n",
      "32\n",
      "64\n",
      "128\n",
      "256\n",
      "512\n",
      "1024\n"
     ]
    }
   ],
   "source": [
    "pow2 = PowTwo(10)\n",
    "for x in pow2:\n",
    "       print(x) "
   ]
  },
  {
   "cell_type": "code",
   "execution_count": 25,
   "metadata": {},
   "outputs": [
    {
     "name": "stdout",
     "output_type": "stream",
     "text": [
      "1\n",
      "2\n",
      "4\n",
      "8\n",
      "16\n",
      "32\n",
      "64\n",
      "128\n",
      "256\n",
      "512\n",
      "1024\n",
      "2048\n",
      "4096\n",
      "8192\n",
      "16384\n",
      "32768\n",
      "65536\n"
     ]
    }
   ],
   "source": [
    "for x in PowTwo(16):\n",
    "    print(x) "
   ]
  },
  {
   "cell_type": "code",
   "execution_count": 4,
   "metadata": {},
   "outputs": [
    {
     "name": "stdout",
     "output_type": "stream",
     "text": [
      "[1, 2, 4, 8, 16, 32, 64, 128, 256]\n"
     ]
    }
   ],
   "source": [
    "pows = [x for x in PowTwo(8)]\n",
    "print(pows)"
   ]
  },
  {
   "cell_type": "code",
   "execution_count": 26,
   "metadata": {},
   "outputs": [],
   "source": [
    "class InfiniteIterator:\n",
    "    \"\"\"Infinite iterator to return all\n",
    "        odd numbers\"\"\"\n",
    "\n",
    "    def __iter__(self):\n",
    "        self.num = 1\n",
    "        return self\n",
    "\n",
    "    def __next__(self):\n",
    "        num = self.num\n",
    "        self.num += 2\n",
    "        return num"
   ]
  },
  {
   "cell_type": "code",
   "execution_count": 27,
   "metadata": {},
   "outputs": [
    {
     "name": "stdout",
     "output_type": "stream",
     "text": [
      "1\n",
      "3\n",
      "5\n",
      "7\n",
      "9\n",
      "11\n",
      "13\n",
      "15\n",
      "17\n",
      "19\n",
      "21\n",
      "23\n",
      "25\n",
      "27\n"
     ]
    }
   ],
   "source": [
    "for x in InfiniteIterator():\n",
    "    print(x)\n",
    "    if x > 25: break"
   ]
  },
  {
   "cell_type": "code",
   "execution_count": 28,
   "metadata": {},
   "outputs": [],
   "source": [
    "class Fibonacci:\n",
    "    def __iter__(self):\n",
    "        self.num = 0\n",
    "        self.prev = 0\n",
    "        return self\n",
    "\n",
    "    def __next__(self):\n",
    "        res = self.num + self.prev if self.num > 0 else 1\n",
    "        self.prev = self.num\n",
    "        self.num = res\n",
    "        return res"
   ]
  },
  {
   "cell_type": "code",
   "execution_count": 29,
   "metadata": {},
   "outputs": [
    {
     "name": "stdout",
     "output_type": "stream",
     "text": [
      "1\n",
      "1\n",
      "2\n",
      "3\n",
      "5\n",
      "8\n",
      "13\n",
      "21\n",
      "34\n",
      "55\n",
      "89\n",
      "144\n"
     ]
    }
   ],
   "source": [
    "for x in Fibonacci():\n",
    "    print(x)\n",
    "    if x > 100: break"
   ]
  },
  {
   "cell_type": "code",
   "execution_count": 5,
   "metadata": {},
   "outputs": [],
   "source": [
    "class People:\n",
    "    def __iter__(self):\n",
    "        self.people = [\n",
    "            { 'id': 123456789, 'lastName': \"Smith\", 'firstName': \"John\", 'address': \"123 Elm Street\", 'city': \"San Diego\", 'state': \"CA\", 'postalCode': \"92121\" },\n",
    "            { 'id': 789456123, 'lastName': \"Williams\", 'firstName': \"Jane\", 'address': \"555 Main St\", 'city': \"Escondido\", 'state': \"CA\", 'postalCode': \"92027\" },\n",
    "            { 'id': 987654321, 'lastName': \"Jones\", 'firstName': \"Carla\", 'address': \"212 Washington Ave\", 'city': \"Las Vegas\", 'state': \"NV\", 'postalCode': \"89109\" },\n",
    "            { 'id': 654987123, 'lastName': \"Jackson\", 'firstName': \"Mickey\", 'address': \"1001 Happy Lane\", 'city': \"Dallas\", 'state': \"TX\", 'postalCode': \"75201\" }\n",
    "        ]\n",
    "        self.index = 0\n",
    "        return self\n",
    "    \n",
    "    def __next__(self):\n",
    "        if self.index >= len(self.people):\n",
    "            raise StopIteration\n",
    "        item = self.people[self.index]\n",
    "        self.index += 1\n",
    "        return item"
   ]
  },
  {
   "cell_type": "code",
   "execution_count": 6,
   "metadata": {},
   "outputs": [
    {
     "name": "stdout",
     "output_type": "stream",
     "text": [
      "{'id': 123456789, 'lastName': 'Smith', 'firstName': 'John', 'address': '123 Elm Street', 'city': 'San Diego', 'state': 'CA', 'postalCode': '92121'}\n",
      "{'id': 789456123, 'lastName': 'Williams', 'firstName': 'Jane', 'address': '555 Main St', 'city': 'Escondido', 'state': 'CA', 'postalCode': '92027'}\n",
      "{'id': 987654321, 'lastName': 'Jones', 'firstName': 'Carla', 'address': '212 Washington Ave', 'city': 'Las Vegas', 'state': 'NV', 'postalCode': '89109'}\n",
      "{'id': 654987123, 'lastName': 'Jackson', 'firstName': 'Mickey', 'address': '1001 Happy Lane', 'city': 'Dallas', 'state': 'TX', 'postalCode': '75201'}\n"
     ]
    }
   ],
   "source": [
    "for p in People():\n",
    "    print(p)"
   ]
  },
  {
   "cell_type": "code",
   "execution_count": null,
   "metadata": {},
   "outputs": [],
   "source": []
  }
 ],
 "metadata": {
  "kernelspec": {
   "display_name": "Python 3",
   "language": "python",
   "name": "python3"
  },
  "language_info": {
   "codemirror_mode": {
    "name": "ipython",
    "version": 3
   },
   "file_extension": ".py",
   "mimetype": "text/x-python",
   "name": "python",
   "nbconvert_exporter": "python",
   "pygments_lexer": "ipython3",
   "version": "3.7.0"
  }
 },
 "nbformat": 4,
 "nbformat_minor": 2
}
