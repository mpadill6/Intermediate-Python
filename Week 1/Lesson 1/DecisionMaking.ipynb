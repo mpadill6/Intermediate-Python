{
 "cells": [
  {
   "cell_type": "code",
   "execution_count": null,
   "metadata": {},
   "outputs": [],
   "source": [
    "# decision-making"
   ]
  },
  {
   "cell_type": "code",
   "execution_count": 11,
   "metadata": {},
   "outputs": [
    {
     "name": "stdout",
     "output_type": "stream",
     "text": [
      "x is 5\n",
      "x is 5\n"
     ]
    }
   ],
   "source": [
    "x = 5\n",
    "if x == 5:\n",
    "    print(\"x is 5\")\n",
    "    print(\"hello!\")\n",
    "\n",
    "# or - single line if\n",
    "if x == 5: print(\"x is 5\")"
   ]
  },
  {
   "cell_type": "code",
   "execution_count": 2,
   "metadata": {},
   "outputs": [
    {
     "name": "stdout",
     "output_type": "stream",
     "text": [
      "y > x\n"
     ]
    }
   ],
   "source": [
    "y = 9\n",
    "if (y > x):\n",
    "    print(\"y > x\")"
   ]
  },
  {
   "cell_type": "code",
   "execution_count": 7,
   "metadata": {},
   "outputs": [
    {
     "name": "stdout",
     "output_type": "stream",
     "text": [
      "x and y are positive\n"
     ]
    }
   ],
   "source": [
    "if x > 0 and y > 0:\n",
    "    print(\"x and y are positive\")"
   ]
  },
  {
   "cell_type": "code",
   "execution_count": 10,
   "metadata": {},
   "outputs": [
    {
     "name": "stdout",
     "output_type": "stream",
     "text": [
      "x or y is positive\n"
     ]
    }
   ],
   "source": [
    "if x > 0 or y > 0:\n",
    "    print(\"x or y is positive\")"
   ]
  },
  {
   "cell_type": "code",
   "execution_count": 13,
   "metadata": {},
   "outputs": [
    {
     "name": "stdout",
     "output_type": "stream",
     "text": [
      "x is positive or 0\n"
     ]
    }
   ],
   "source": [
    "# if - else\n",
    "if x < 0:\n",
    "    print(\"x is negative\")\n",
    "else:\n",
    "    print(\"x is positive or 0\")"
   ]
  },
  {
   "cell_type": "code",
   "execution_count": 16,
   "metadata": {},
   "outputs": [
    {
     "name": "stdout",
     "output_type": "stream",
     "text": [
      "x is 0\n"
     ]
    }
   ],
   "source": [
    "# if - elif - else\n",
    "x = 0\n",
    "if x < 0:\n",
    "    print(\"x is negative\")\n",
    "elif x > 0:\n",
    "    print(\"x is positive\")\n",
    "else:\n",
    "    print(\"x is 0\")\n",
    "    "
   ]
  },
  {
   "cell_type": "code",
   "execution_count": 25,
   "metadata": {},
   "outputs": [
    {
     "name": "stdout",
     "output_type": "stream",
     "text": [
      "point at origin\n"
     ]
    }
   ],
   "source": [
    "x = 0\n",
    "y = 0\n",
    "\n",
    "#              y-axis\n",
    "#                |\n",
    "#                |\n",
    "#     Q II       |      Q I\n",
    "#                |\n",
    "#                |\n",
    "#  --------------O------------- x-axis\n",
    "#                |\n",
    "#                |\n",
    "#     Q III      |      Q IV\n",
    "#                |\n",
    "#                |          \n",
    "\n",
    "if x == 0 and y == 0:\n",
    "    print(\"point at origin\")\n",
    "elif x == 0 and y != 0:\n",
    "    print(\"point on y axis\")\n",
    "elif x != 0 and y == 0:\n",
    "    print(\"point on x axis\")\n",
    "else:\n",
    "    if x > 0 and y > 0:\n",
    "        print(\"point in quadrant I\")\n",
    "    elif x < 0 and y > 0:\n",
    "        print(\"point in quadrant II\")\n",
    "    elif x < 0 and y < 0:\n",
    "        print(\"point in quadrant III\")\n",
    "    else:\n",
    "        print(\"point in quadrant IV\")\n"
   ]
  },
  {
   "cell_type": "code",
   "execution_count": 27,
   "metadata": {},
   "outputs": [
    {
     "name": "stdout",
     "output_type": "stream",
     "text": [
      "Odd!\n"
     ]
    }
   ],
   "source": [
    "# The pass statement\n",
    "x = 1\n",
    "if x % 2 == 0:\n",
    "    pass  # skip even number\n",
    "else:\n",
    "    print(\"Odd!\")\n"
   ]
  },
  {
   "cell_type": "code",
   "execution_count": null,
   "metadata": {},
   "outputs": [],
   "source": []
  }
 ],
 "metadata": {
  "kernelspec": {
   "display_name": "Python 3",
   "language": "python",
   "name": "python3"
  },
  "language_info": {
   "codemirror_mode": {
    "name": "ipython",
    "version": 3
   },
   "file_extension": ".py",
   "mimetype": "text/x-python",
   "name": "python",
   "nbconvert_exporter": "python",
   "pygments_lexer": "ipython3",
   "version": "3.7.0"
  }
 },
 "nbformat": 4,
 "nbformat_minor": 2
}
