{
 "cells": [
  {
   "cell_type": "code",
   "execution_count": 5,
   "metadata": {},
   "outputs": [],
   "source": [
    "# Loops\n",
    "import random"
   ]
  },
  {
   "cell_type": "code",
   "execution_count": null,
   "metadata": {},
   "outputs": [],
   "source": [
    "# while loops"
   ]
  },
  {
   "cell_type": "code",
   "execution_count": 6,
   "metadata": {},
   "outputs": [
    {
     "name": "stdout",
     "output_type": "stream",
     "text": [
      "x = 0\n",
      "x = 1\n",
      "x = 2\n",
      "x = 3\n",
      "x = 4\n",
      "x = 5\n",
      "x = 6\n",
      "x = 7\n",
      "x = 8\n",
      "x = 9\n"
     ]
    }
   ],
   "source": [
    "x = 0\n",
    "while x < 10:\n",
    "    print(f\"x = {x}\")\n",
    "    x += 1"
   ]
  },
  {
   "cell_type": "code",
   "execution_count": 18,
   "metadata": {},
   "outputs": [
    {
     "name": "stdout",
     "output_type": "stream",
     "text": [
      "Enter a number from 1 to 100: 50\n",
      "Your guess is too high\n",
      "Enter a number from 1 to 100: 25\n",
      "Your guess is too high\n",
      "Enter a number from 1 to 100: a\n",
      "Enter a number from 1 to 100: f\n",
      "Enter a number from 1 to 100: 12\n",
      "Your guess is too low\n",
      "Enter a number from 1 to 100: 19\n",
      "Your guess is too high\n",
      "Enter a number from 1 to 100: 15\n",
      "Your guess is too high\n",
      "Enter a number from 1 to 100: 13\n",
      "You got it in 6 tries!\n"
     ]
    }
   ],
   "source": [
    "# Number guessing game\n",
    "rand = random.randint(1, 100)\n",
    "guess = 0\n",
    "tries = 0\n",
    "while rand != guess:\n",
    "    num = input(\"Enter a number from 1 to 100: \")\n",
    "    if num.isnumeric() == False:\n",
    "        continue  # jump to the next iteration\n",
    "    tries += 1\n",
    "    guess = int(num)\n",
    "    if guess < rand:\n",
    "        print(\"Your guess is too low\")\n",
    "    elif guess > rand:\n",
    "        print(\"Your guess is too high\")\n",
    "    else:\n",
    "        print(f\"You got it in {tries} tries!\")\n"
   ]
  },
  {
   "cell_type": "code",
   "execution_count": 15,
   "metadata": {},
   "outputs": [
    {
     "name": "stdout",
     "output_type": "stream",
     "text": [
      "Enter a word, or 'q' to quit: hello\n",
      "You entered 'hello'\n",
      "Enter a word, or 'q' to quit: there\n",
      "You entered 'there'\n",
      "Enter a word, or 'q' to quit: q\n"
     ]
    }
   ],
   "source": [
    "# infinite loop\n",
    "while True:\n",
    "    text = input(\"Enter a word, or 'q' to quit: \")\n",
    "    if text == 'q':\n",
    "        break\n",
    "    print(f\"You entered '{text}'\")   \n"
   ]
  },
  {
   "cell_type": "code",
   "execution_count": null,
   "metadata": {},
   "outputs": [],
   "source": [
    "# for loops"
   ]
  },
  {
   "cell_type": "code",
   "execution_count": 19,
   "metadata": {},
   "outputs": [
    {
     "name": "stdout",
     "output_type": "stream",
     "text": [
      "H\n",
      "e\n",
      "l\n",
      "l\n",
      "o\n",
      " \n",
      "w\n",
      "o\n",
      "r\n",
      "l\n",
      "d\n",
      "!\n"
     ]
    }
   ],
   "source": [
    "# loop through letters in string\n",
    "for char in \"Hello world!\":\n",
    "    print(char)"
   ]
  },
  {
   "cell_type": "code",
   "execution_count": 20,
   "metadata": {},
   "outputs": [
    {
     "name": "stdout",
     "output_type": "stream",
     "text": [
      "This\n",
      "is\n",
      "a\n",
      "test\n"
     ]
    }
   ],
   "source": [
    "# Loop through words in a sentence\n",
    "sentence = \"This is a test\"\n",
    "words = sentence.split(' ')\n",
    "for word in words:\n",
    "    print(word)"
   ]
  },
  {
   "cell_type": "code",
   "execution_count": 21,
   "metadata": {},
   "outputs": [
    {
     "name": "stdout",
     "output_type": "stream",
     "text": [
      "0\n",
      "1\n",
      "2\n",
      "3\n",
      "4\n"
     ]
    }
   ],
   "source": [
    "# iterate through a sequence of numbers\n",
    "for x in range(5):  # 0..4\n",
    "    print(x)"
   ]
  },
  {
   "cell_type": "code",
   "execution_count": 22,
   "metadata": {},
   "outputs": [
    {
     "name": "stdout",
     "output_type": "stream",
     "text": [
      "2\n",
      "3\n",
      "4\n",
      "5\n",
      "6\n",
      "7\n"
     ]
    }
   ],
   "source": [
    "for x in range(2,8):  # 2..7\n",
    "    print(x)"
   ]
  },
  {
   "cell_type": "code",
   "execution_count": 23,
   "metadata": {},
   "outputs": [
    {
     "name": "stdout",
     "output_type": "stream",
     "text": [
      "1\n",
      "3\n",
      "5\n",
      "7\n",
      "9\n"
     ]
    }
   ],
   "source": [
    "for x in range(1,10,2):  # 1 to 9, skip by 2s\n",
    "    print(x)"
   ]
  },
  {
   "cell_type": "code",
   "execution_count": 27,
   "metadata": {},
   "outputs": [
    {
     "name": "stdout",
     "output_type": "stream",
     "text": [
      "5\n",
      "4\n",
      "3\n",
      "2\n",
      "1\n"
     ]
    }
   ],
   "source": [
    "for x in range(5,0,-1):  # 5 to 1, count backwards\n",
    "    print(x)"
   ]
  },
  {
   "cell_type": "code",
   "execution_count": 28,
   "metadata": {},
   "outputs": [
    {
     "name": "stdout",
     "output_type": "stream",
     "text": [
      "0\n",
      "1\n",
      "2\n",
      "3\n",
      "4\n",
      "I'm done!\n"
     ]
    }
   ],
   "source": [
    "# do something when loop condition is no longer satisfied\n",
    "for x in range(5):  # 0..4\n",
    "    print(x)\n",
    "else:\n",
    "    print(\"I'm done!\")"
   ]
  },
  {
   "cell_type": "code",
   "execution_count": 34,
   "metadata": {},
   "outputs": [
    {
     "name": "stdout",
     "output_type": "stream",
     "text": [
      "'This' is at index 0\n",
      "'is' is at index 1\n",
      "'a' is at index 2\n",
      "'test' is at index 3\n"
     ]
    }
   ],
   "source": [
    "# Get both item and index\n",
    "sentence = \"This is a test\"\n",
    "words = sentence.split(' ')\n",
    "for index, word in enumerate(words):\n",
    "    print(f\"'{word}' is at index {index}\")"
   ]
  },
  {
   "cell_type": "code",
   "execution_count": 11,
   "metadata": {},
   "outputs": [
    {
     "name": "stdout",
     "output_type": "stream",
     "text": [
      "[3, 6, 8, 1, 9, 5, 7, 2, 4]\n",
      "[1, 2, 3, 4, 5, 6, 7, 8, 9]\n"
     ]
    }
   ],
   "source": [
    "# Nested loops to sort a list of items\n",
    "list = [3, 6, 8, 1, 9, 5, 7, 2, 4]\n",
    "print(list)\n",
    "\n",
    "for i in range(0, len(list)-1): # loop through all items except last\n",
    "    for j in range(i + 1, len(list)):  # loop through all items to right of i\n",
    "        left = list[i]\n",
    "        right = list[j]\n",
    "        if left > right:\n",
    "            # swap values\n",
    "            list[i] = right\n",
    "            list[j] = left\n",
    "\n",
    "print(list)"
   ]
  },
  {
   "cell_type": "code",
   "execution_count": null,
   "metadata": {},
   "outputs": [],
   "source": []
  }
 ],
 "metadata": {
  "kernelspec": {
   "display_name": "Python 3",
   "language": "python",
   "name": "python3"
  },
  "language_info": {
   "codemirror_mode": {
    "name": "ipython",
    "version": 3
   },
   "file_extension": ".py",
   "mimetype": "text/x-python",
   "name": "python",
   "nbconvert_exporter": "python",
   "pygments_lexer": "ipython3",
   "version": "3.7.0"
  }
 },
 "nbformat": 4,
 "nbformat_minor": 2
}
