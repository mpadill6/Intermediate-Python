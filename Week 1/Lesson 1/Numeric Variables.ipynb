{
 "cells": [
  {
   "cell_type": "code",
   "execution_count": 1,
   "metadata": {},
   "outputs": [],
   "source": [
    "import sys # Provides access to the sys module\n",
    "import math"
   ]
  },
  {
   "cell_type": "code",
   "execution_count": 2,
   "metadata": {},
   "outputs": [],
   "source": [
    "# Simple numbers\n",
    "someNumber = 12\n",
    "doubledNumber = 12 * 2\n",
    "print(someNumber)\n",
    "print(doubledNumber)"
   ]
  },
  {
   "cell_type": "code",
   "execution_count": 3,
   "metadata": {},
   "outputs": [
    {
     "name": "stdout",
     "output_type": "stream",
     "text": [
      "12345\n"
     ]
    }
   ],
   "source": [
    "# reusing a variable\n",
    "someNumber = 12345\n",
    "print(someNumber)"
   ]
  },
  {
   "cell_type": "code",
   "execution_count": 4,
   "metadata": {},
   "outputs": [
    {
     "name": "stdout",
     "output_type": "stream",
     "text": [
      "<class 'int'>\n",
      "<class 'int'>\n",
      "<class 'int'>\n"
     ]
    }
   ],
   "source": [
    "# What type is it?\n",
    "print(type(someNumber))\n",
    "print(type(doubledNumber))\n",
    "print(type(12345))"
   ]
  },
  {
   "cell_type": "code",
   "execution_count": 5,
   "metadata": {},
   "outputs": [
    {
     "name": "stdout",
     "output_type": "stream",
     "text": [
      "12345678901234567890\n",
      "152415787532388367501905199875019052100\n"
     ]
    }
   ],
   "source": [
    "# Long numbers - Python integer length is constrained by memory\n",
    "long = 12345678901234567890\n",
    "print(long)\n",
    "reallyLong = long * long\n",
    "print(reallyLong)"
   ]
  },
  {
   "cell_type": "code",
   "execution_count": 6,
   "metadata": {},
   "outputs": [
    {
     "name": "stdout",
     "output_type": "stream",
     "text": [
      "65535\n",
      "0xffff\n",
      "342391\n",
      "0o1234567\n",
      "105\n",
      "0b1101001\n"
     ]
    }
   ],
   "source": [
    "# Non-base-10 numbers\n",
    "hexadecimal = 0xFFFF  # 0-9,A-F\n",
    "print(hexadecimal)    # prints in base-10\n",
    "print(hex(hexadecimal))  # prints in base-16\n",
    "\n",
    "octal = 0o01234567    # 0-7\n",
    "print(octal)\n",
    "print(oct(octal))  # prints in base-8\n",
    "\n",
    "binary = 0b01101001   # 0,1\n",
    "print(binary)\n",
    "print(bin(binary))  # prints in base-2"
   ]
  },
  {
   "cell_type": "code",
   "execution_count": 7,
   "metadata": {},
   "outputs": [
    {
     "name": "stdout",
     "output_type": "stream",
     "text": [
      "123.456\n",
      "1234567890123456.0\n",
      "1.2345678901234568e+16\n"
     ]
    }
   ],
   "source": [
    "# Floating point numbers - any number with fractional part\n",
    "float1 = 123.456\n",
    "print(float1)\n",
    "\n",
    "float2 = 1234567890123456.12345  # Limit of floating point significant figures: ~16 digits\n",
    "print(float2)\n",
    "\n",
    "float3 = 12345678901234567.1234  # Numbers forced to exponential notation\n",
    "print(float3)"
   ]
  },
  {
   "cell_type": "code",
   "execution_count": 8,
   "metadata": {},
   "outputs": [
    {
     "name": "stdout",
     "output_type": "stream",
     "text": [
      "1.7976931348623157e+308\n",
      "inf\n",
      "Infinity!\n",
      "2.2250738585072014e-308\n"
     ]
    }
   ],
   "source": [
    "biggestFloat = sys.float_info.max  # ~1.8 x 10^308\n",
    "print(biggestFloat)\n",
    "print(biggestFloat * 2)  # uh-oh - infinity!\n",
    "\n",
    "if biggestFloat * 2 == math.inf:\n",
    "    print(\"Infinity!\")\n",
    "\n",
    "smallestFloat = sys.float_info.min\n",
    "print(smallestFloat)   # ~2.2 x 10^-308  (anything smaller is considered 0)"
   ]
  },
  {
   "cell_type": "code",
   "execution_count": 9,
   "metadata": {},
   "outputs": [
    {
     "name": "stdout",
     "output_type": "stream",
     "text": [
      "1230000000000.0\n"
     ]
    }
   ],
   "source": [
    "expFloat = 1.23e12  # 1.23 x 10^12\n",
    "print(expFloat)"
   ]
  },
  {
   "cell_type": "code",
   "execution_count": 10,
   "metadata": {},
   "outputs": [
    {
     "name": "stdout",
     "output_type": "stream",
     "text": [
      "<class 'int'>\n",
      "<class 'float'>\n",
      "152407394.91\n",
      "<class 'float'>\n"
     ]
    }
   ],
   "source": [
    "# Type promotion / coercion / implicit conversion\n",
    "i = 12345\n",
    "print(type(i))\n",
    "f = 12345.678\n",
    "print(type(f))\n",
    "whatIsIt = i * f\n",
    "print(whatIsIt)\n",
    "print(type(whatIsIt))"
   ]
  },
  {
   "cell_type": "code",
   "execution_count": 11,
   "metadata": {},
   "outputs": [
    {
     "name": "stdout",
     "output_type": "stream",
     "text": [
      "123456.789\n",
      "123456\n",
      "123456\n"
     ]
    }
   ],
   "source": [
    "# Explicit conversions\n",
    "someFloat = 123456.789\n",
    "print(someFloat)\n",
    "someInt = int(someFloat)   # Convert using int function\n",
    "print(someInt)  # Note: we explicitly converted to int which truncated (not rounded) the fractional data\n",
    "\n",
    "someInt = (int)(someFloat)  # Convert using type casting (note parens around variable)\n",
    "print(someInt)"
   ]
  },
  {
   "cell_type": "code",
   "execution_count": null,
   "metadata": {},
   "outputs": [],
   "source": []
  }
 ],
 "metadata": {
  "kernelspec": {
   "display_name": "Python 3",
   "language": "python",
   "name": "python3"
  },
  "language_info": {
   "codemirror_mode": {
    "name": "ipython",
    "version": 3
   },
   "file_extension": ".py",
   "mimetype": "text/x-python",
   "name": "python",
   "nbconvert_exporter": "python",
   "pygments_lexer": "ipython3",
   "version": "3.7.1"
  }
 },
 "nbformat": 4,
 "nbformat_minor": 2
}
