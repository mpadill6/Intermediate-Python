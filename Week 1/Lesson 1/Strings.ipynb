{
 "cells": [
  {
   "cell_type": "code",
   "execution_count": 1,
   "metadata": {},
   "outputs": [
    {
     "name": "stdout",
     "output_type": "stream",
     "text": [
      "Bruce Schurter\n",
      "Schurter123\n"
     ]
    }
   ],
   "source": [
    "# Simple string, either ' or \" for delimiters\n",
    "fname = \"Bruce\"\n",
    "lname = 'Schurter'\n",
    "print(fname + \" \" + lname)\n",
    "\n",
    "#print(lname + 123)  <-- Can't do!\n",
    "print(lname + str(123))   # OK!"
   ]
  },
  {
   "cell_type": "code",
   "execution_count": 2,
   "metadata": {},
   "outputs": [],
   "source": [
    "#\n",
    "# Important string methods - note some are members and others are standard functions where you passs a string\n",
    "#"
   ]
  },
  {
   "cell_type": "code",
   "execution_count": 3,
   "metadata": {},
   "outputs": [
    {
     "name": "stdout",
     "output_type": "stream",
     "text": [
      "22\n"
     ]
    }
   ],
   "source": [
    "# string length\n",
    "s1 = \"This is a long string.\"\n",
    "print(len(s1))"
   ]
  },
  {
   "cell_type": "code",
   "execution_count": 4,
   "metadata": {},
   "outputs": [
    {
     "name": "stdout",
     "output_type": "stream",
     "text": [
      ">      Lots of spaces in here      <\n",
      ">Lots of spaces in here      <\n",
      ">      Lots of spaces in here<\n",
      ">Lots of spaces in here<\n"
     ]
    }
   ],
   "source": [
    "# string stripping\n",
    "s2 = \"      Lots of spaces in here      \"\n",
    "print(\">\" + s2 + \"<\")\n",
    "print(\">\" + s2.lstrip() + \"<\")\n",
    "print(\">\" + s2.rstrip() + \"<\")\n",
    "print(\">\" + s2.strip() + \"<\")"
   ]
  },
  {
   "cell_type": "code",
   "execution_count": 5,
   "metadata": {},
   "outputs": [
    {
     "name": "stdout",
     "output_type": "stream",
     "text": [
      "Does s3 start with 'A'? True\n",
      "Does s3 end with 'Z'? False\n"
     ]
    }
   ],
   "source": [
    "# Starts/ends with\n",
    "s3 = \"ABCDEFG\"\n",
    "print(\"Does s3 start with 'ABC'? \" + str(s3.startswith(\"ABC\")))\n",
    "print(\"Does s3 start with 'B'? \" + str(s3.startswith(\"B\")))\n",
    "print(\"Does s3 end with 'G'? \" + str(s3.endswith(\"G\")))\n",
    "url = \"http://www.python.org\"\n",
    "print(\"Does url start with 'http'? \" + str(url.startswith(\"http\")))\n",
    "print(\"Does url start with 'https'? \" + str(url.startswith(\"https\")))"
   ]
  },
  {
   "cell_type": "code",
   "execution_count": 6,
   "metadata": {},
   "outputs": [
    {
     "name": "stdout",
     "output_type": "stream",
     "text": [
      "THIS IS A TEST\n",
      "this is a test\n"
     ]
    }
   ],
   "source": [
    "# Upper/lower case\n",
    "s4 = \"This IS a TeSt\"\n",
    "print(s4.upper())\n",
    "print(s4.lower())"
   ]
  },
  {
   "cell_type": "code",
   "execution_count": 7,
   "metadata": {},
   "outputs": [
    {
     "name": "stdout",
     "output_type": "stream",
     "text": [
      "I really should capitalize the first letter of a sentence.\n",
      "I Really Should Capitalize The First Letter Of A Sentence.\n"
     ]
    }
   ],
   "source": [
    "# Capitalize/Title\n",
    "s5 = \"i really should capitalize the first letter of a sentence.\"\n",
    "print(s5.capitalize())\n",
    "print(s5.title())"
   ]
  },
  {
   "cell_type": "code",
   "execution_count": 8,
   "metadata": {},
   "outputs": [
    {
     "name": "stdout",
     "output_type": "stream",
     "text": [
      ">Justify me               <\n",
      ">        Justify me       <\n",
      ">               Justify me<\n",
      ">Justify me<\n"
     ]
    }
   ],
   "source": [
    "# Justifying\n",
    "just = \"Justify me\"\n",
    "print(\">\" + just.ljust(25) + \"<\")\n",
    "print(\">\" + just.center(25) + \"<\")\n",
    "print(\">\" + just.rjust(25) + \"<\")\n",
    "print(\">\" + just.ljust(5) + \"<\")  # Note: does not trim contents if width < string length"
   ]
  },
  {
   "cell_type": "code",
   "execution_count": 14,
   "metadata": {},
   "outputs": [
    {
     "name": "stdout",
     "output_type": "stream",
     "text": [
      "9\n",
      "-1\n",
      "26\n",
      "0\n",
      "26\n"
     ]
    }
   ],
   "source": [
    "# find/rfind - returns -1 if not found\n",
    "#               1         2\n",
    "#     012345678901234567890123456\n",
    "s6 = \"abcdefghijklmnopqrstuvwxyza\"\n",
    "print(s6.find('j'))\n",
    "print(s6.find('8'))\n",
    "index = s6.find('8')\n",
    "print(index)\n",
    "print(s6.find('a'))\n",
    "print(s6.rfind('a'))\n",
    "print(s6.find('a', 2))  # start at character index 2, the 'c'\n",
    "\n",
    "# index/rindex - throws exception if not found\n",
    "print(s6.index('a'))\n",
    "#print(s6.index('8'))  <- will throw an exception\n",
    "print(s6.rindex('a'))"
   ]
  },
  {
   "cell_type": "code",
   "execution_count": 10,
   "metadata": {},
   "outputs": [
    {
     "name": "stdout",
     "output_type": "stream",
     "text": [
      "sAlpha is alpha? True\n",
      "sAlpha is numeric? False\n",
      "sNumeric is alpha? False\n",
      "sNumeric is numeric? True\n",
      "sMixed is alpha? False\n",
      "sMixed is numeric? False\n",
      "sMixed is isalnum? True\n"
     ]
    }
   ],
   "source": [
    "# Is numeric? alpha?\n",
    "sAlpha = \"asdfghjkl\"\n",
    "sNumeric = \"12345678\"\n",
    "sMixed = sAlpha + sNumeric\n",
    "print(\"sAlpha is alpha? \" + str(sAlpha.isalpha()))\n",
    "print(\"sAlpha is numeric? \" + str(sAlpha.isnumeric()))\n",
    "\n",
    "print(\"sNumeric is alpha? \" + str(sNumeric.isalpha()))\n",
    "print(\"sNumeric is numeric? \" + str(sNumeric.isnumeric()))\n",
    "\n",
    "print(\"sMixed is alpha? \" + str(sMixed.isalpha()))\n",
    "print(\"sMixed is numeric? \" + str(sMixed.isnumeric()))\n",
    "\n",
    "print(\"sMixed is isalnum? \" + str(sMixed.isalnum()))\n"
   ]
  },
  {
   "cell_type": "code",
   "execution_count": 15,
   "metadata": {},
   "outputs": [
    {
     "name": "stdout",
     "output_type": "stream",
     "text": [
      "tires\n"
     ]
    }
   ],
   "source": [
    "# replace\n",
    "s7 = \"tyres\"\n",
    "print(s7.replace(\"y\", \"i\"))"
   ]
  },
  {
   "cell_type": "code",
   "execution_count": 21,
   "metadata": {},
   "outputs": [
    {
     "name": "stdout",
     "output_type": "stream",
     "text": [
      "llo World!\n",
      "He\n",
      "ll\n",
      "Hello Worl\n",
      "d!\n",
      "llo Worl\n"
     ]
    }
   ],
   "source": [
    "# String slicing (substring)\n",
    "#     0         1\n",
    "#     012345678901   <= index\n",
    "s8 = \"Hello World!\"\n",
    "print(s8[2:])   # start at index 2 and get rest of string\n",
    "print(s8[:2])   # start at beginning and stop at character before index 2 \n",
    "print(s8[2:4])  # start at index 2 and stop at character before index 4\n",
    "print(s8[:-2])  # start at beginning and stop at character before 2nd index from end\n",
    "print(s8[-2:])  # start before 2nd index from end and get rst of string\n",
    "print(s8[2:-2]) # start at index 2 and stop at character before 2nd index from end"
   ]
  },
  {
   "cell_type": "code",
   "execution_count": 5,
   "metadata": {},
   "outputs": [
    {
     "name": "stdout",
     "output_type": "stream",
     "text": [
      "['800', '555', '1212']\n",
      "800 555 1212\n",
      "800.555.1212\n",
      "800.555.1212\n"
     ]
    }
   ],
   "source": [
    "# String splitting and joining\n",
    "phone = \"800-555-1212\"\n",
    "split = phone.split(\"-\")\n",
    "print(split)\n",
    "\n",
    "# put parts into individual variables\n",
    "areaCode = split[0]\n",
    "prefix = split[1]\n",
    "lineNumber = split[2]\n",
    "print(areaCode + \" \" + prefix + \" \" + lineNumber)\n",
    "\n",
    "# rejoin into a single string using a different delimiter\n",
    "newPhone = \".\".join(split)\n",
    "print(newPhone)\n",
    "# or\n",
    "newPhone = str.join(\".\", split)\n",
    "print(newPhone)"
   ]
  },
  {
   "cell_type": "code",
   "execution_count": 1,
   "metadata": {},
   "outputs": [
    {
     "name": "stdout",
     "output_type": "stream",
     "text": [
      "We can embed variables like 'John' directly in our string!\n",
      "We can also make function calls in the braces! See: JOHN\n",
      "Embed multiple variables and constants too! John Smith age: 25\n",
      "What about decimal places?  Sure! 25.13\n",
      "What about leading 0's?  0.13\n",
      "Smith                John            $   12,345.68\n",
      "Williams             Jamie           $  654,321.00\n"
     ]
    }
   ],
   "source": [
    "# String formatting \"f-strings\"\n",
    "# https://stackoverflow.com/questions/5676646/how-can-i-fill-out-a-python-string-with-spaces\n",
    "\n",
    "# format_spec ::=  [[fill]align][sign][#][0][width][,][.precision][type]\n",
    "# fill        ::=  <any character>\n",
    "# align       ::=  \"<\" | \">\" | \"=\" | \"^\"\n",
    "# sign        ::=  \"+\" | \"-\" | \" \"\n",
    "# width       ::=  integer\n",
    "# precision   ::=  integer\n",
    "# type        ::=  \"b\" | \"c\" | \"d\" | \"e\" | \"E\" | \"f\" | \"F\" | \"g\" | \"G\" | \"n\" | \"o\" | \"s\" | \"x\" | \"X\" | \"%\"\n",
    "\n",
    "\n",
    "fname = \"John\"\n",
    "lname = \"Smith\"\n",
    "print(f\"We can embed variables like '{fname}' directly in our string!\")\n",
    "\n",
    "print(f\"We can also make function calls in the braces! See: {fname.upper()}\")\n",
    "\n",
    "print(f\"Embed multiple variables and constants too! {fname} {lname} age: {25}\")\n",
    "\n",
    "print(f\"What about decimal places?  Sure! {25.1256:.2f}\")\n",
    "\n",
    "print(f\"What about leading 0's?  {0.1256:0.2f}\")\n",
    "\n",
    "# Justificiation and formatting?  Yes!\n",
    "salary = 12345.67890\n",
    "print(f\"{lname:<20} {fname:<15} ${salary:>12,.2f}\")\n",
    "\n",
    "fname = \"Jamie\"\n",
    "lname = \"Williams\"\n",
    "salary = 654321\n",
    "print(f\"{lname:<20} {fname:<15} ${salary:>12,.2f}\")"
   ]
  },
  {
   "cell_type": "code",
   "execution_count": null,
   "metadata": {},
   "outputs": [],
   "source": []
  }
 ],
 "metadata": {
  "kernelspec": {
   "display_name": "Python 3",
   "language": "python",
   "name": "python3"
  },
  "language_info": {
   "codemirror_mode": {
    "name": "ipython",
    "version": 3
   },
   "file_extension": ".py",
   "mimetype": "text/x-python",
   "name": "python",
   "nbconvert_exporter": "python",
   "pygments_lexer": "ipython3",
   "version": "3.7.1"
  }
 },
 "nbformat": 4,
 "nbformat_minor": 2
}
